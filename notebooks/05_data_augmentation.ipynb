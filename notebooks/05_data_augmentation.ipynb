{
 "cells": [
  {
   "cell_type": "markdown",
   "metadata": {},
   "source": [
    "## Data Augmentation"
   ]
  },
  {
   "cell_type": "markdown",
   "metadata": {},
   "source": [
    "After hyperparameter tuning, the model accuracy has increased drastically. Athough there still seems room for improvement. We can try data augmentation for better generalization and increasing the accuracy.\n",
    "\n",
    "here I will be using the `preprocess_image` function with the augment flag set to True to augment our data. We will be rotating and shearing the images."
   ]
  },
  {
   "cell_type": "code",
   "execution_count": null,
   "metadata": {},
   "outputs": [],
   "source": [
    "# Apply augmentation only to the training set\n",
    "X_train_augmented = np.empty_like(X_train)\n",
    "for i in range(len(X_train)):\n",
    "    X_train_augmented[i] = preprocess_image(Image.fromarray(X_train[i].astype(np.uint8)), augment=True) # augmentation\n",
    "\n",
    "train_dataset_aug = tf.data.Dataset.from_tensor_slices((X_train_augmented, {\"activity_output\": y_activity_train, \"person_output\": y_person_train}))\n",
    "\n",
    "# shuffle\n",
    "train_dataset_aug = train_dataset_aug.shuffle(buffer_size=len(X_train)).batch(batch_size).prefetch(tf.data.AUTOTUNE)"
   ]
  },
  {
   "cell_type": "code",
   "execution_count": null,
   "metadata": {},
   "outputs": [
    {
     "name": "stdout",
     "output_type": "stream",
     "text": [
      "Epoch 1/80\n",
      "\u001b[1m180/180\u001b[0m \u001b[32m━━━━━━━━━━━━━━━━━━━━\u001b[0m\u001b[37m\u001b[0m \u001b[1m92s\u001b[0m 196ms/step - activity_output_accuracy: 0.1636 - loss: 29.6372 - person_output_accuracy: 0.6494 - val_activity_output_accuracy: 0.5542 - val_loss: 23.2341 - val_person_output_accuracy: 0.7792 - learning_rate: 1.0000e-04\n",
      "Epoch 2/80\n",
      "\u001b[1m180/180\u001b[0m \u001b[32m━━━━━━━━━━━━━━━━━━━━\u001b[0m\u001b[37m\u001b[0m \u001b[1m32s\u001b[0m 176ms/step - activity_output_accuracy: 0.6583 - loss: 21.5314 - person_output_accuracy: 0.8048 - val_activity_output_accuracy: 0.6056 - val_loss: 18.5476 - val_person_output_accuracy: 0.7250 - learning_rate: 9.0000e-05\n",
      "Epoch 3/80\n",
      "\u001b[1m180/180\u001b[0m \u001b[32m━━━━━━━━━━━━━━━━━━━━\u001b[0m\u001b[37m\u001b[0m \u001b[1m32s\u001b[0m 176ms/step - activity_output_accuracy: 0.8381 - loss: 16.5650 - person_output_accuracy: 0.9058 - val_activity_output_accuracy: 0.6444 - val_loss: 15.0122 - val_person_output_accuracy: 0.8167 - learning_rate: 8.1000e-05\n",
      "Epoch 4/80\n",
      "\u001b[1m180/180\u001b[0m \u001b[32m━━━━━━━━━━━━━━━━━━━━\u001b[0m\u001b[37m\u001b[0m \u001b[1m32s\u001b[0m 178ms/step - activity_output_accuracy: 0.9355 - loss: 13.0395 - person_output_accuracy: 0.9614 - val_activity_output_accuracy: 0.6639 - val_loss: 12.5342 - val_person_output_accuracy: 0.8125 - learning_rate: 7.2900e-05\n",
      "Epoch 5/80\n",
      "\u001b[1m180/180\u001b[0m \u001b[32m━━━━━━━━━━━━━━━━━━━━\u001b[0m\u001b[37m\u001b[0m \u001b[1m33s\u001b[0m 181ms/step - activity_output_accuracy: 0.9720 - loss: 10.4825 - person_output_accuracy: 0.9721 - val_activity_output_accuracy: 0.6847 - val_loss: 10.4610 - val_person_output_accuracy: 0.8361 - learning_rate: 6.5610e-05\n",
      "Epoch 6/80\n",
      "\u001b[1m180/180\u001b[0m \u001b[32m━━━━━━━━━━━━━━━━━━━━\u001b[0m\u001b[37m\u001b[0m \u001b[1m32s\u001b[0m 179ms/step - activity_output_accuracy: 0.9759 - loss: 8.5549 - person_output_accuracy: 0.9783 - val_activity_output_accuracy: 0.7125 - val_loss: 8.9788 - val_person_output_accuracy: 0.8222 - learning_rate: 5.9049e-05\n",
      "Epoch 7/80\n",
      "\u001b[1m180/180\u001b[0m \u001b[32m━━━━━━━━━━━━━━━━━━━━\u001b[0m\u001b[37m\u001b[0m \u001b[1m33s\u001b[0m 181ms/step - activity_output_accuracy: 0.9947 - loss: 7.0038 - person_output_accuracy: 0.9908 - val_activity_output_accuracy: 0.7194 - val_loss: 7.5946 - val_person_output_accuracy: 0.8333 - learning_rate: 5.3144e-05\n",
      "Epoch 8/80\n",
      "\u001b[1m180/180\u001b[0m \u001b[32m━━━━━━━━━━━━━━━━━━━━\u001b[0m\u001b[37m\u001b[0m \u001b[1m33s\u001b[0m 180ms/step - activity_output_accuracy: 0.9959 - loss: 5.7892 - person_output_accuracy: 0.9894 - val_activity_output_accuracy: 0.7292 - val_loss: 6.5976 - val_person_output_accuracy: 0.8417 - learning_rate: 4.7830e-05\n",
      "Epoch 9/80\n",
      "\u001b[1m180/180\u001b[0m \u001b[32m━━━━━━━━━━━━━━━━━━━━\u001b[0m\u001b[37m\u001b[0m \u001b[1m32s\u001b[0m 180ms/step - activity_output_accuracy: 0.9953 - loss: 4.8236 - person_output_accuracy: 0.9920 - val_activity_output_accuracy: 0.7333 - val_loss: 5.7937 - val_person_output_accuracy: 0.8556 - learning_rate: 4.3047e-05\n",
      "Epoch 10/80\n",
      "\u001b[1m180/180\u001b[0m \u001b[32m━━━━━━━━━━━━━━━━━━━━\u001b[0m\u001b[37m\u001b[0m \u001b[1m32s\u001b[0m 180ms/step - activity_output_accuracy: 0.9988 - loss: 4.0314 - person_output_accuracy: 0.9948 - val_activity_output_accuracy: 0.7361 - val_loss: 5.1216 - val_person_output_accuracy: 0.8014 - learning_rate: 3.8742e-05\n",
      "Epoch 11/80\n",
      "\u001b[1m180/180\u001b[0m \u001b[32m━━━━━━━━━━━━━━━━━━━━\u001b[0m\u001b[37m\u001b[0m \u001b[1m33s\u001b[0m 181ms/step - activity_output_accuracy: 0.9984 - loss: 3.4074 - person_output_accuracy: 0.9930 - val_activity_output_accuracy: 0.7278 - val_loss: 4.5775 - val_person_output_accuracy: 0.8347 - learning_rate: 3.4868e-05\n",
      "Epoch 12/80\n",
      "\u001b[1m180/180\u001b[0m \u001b[32m━━━━━━━━━━━━━━━━━━━━\u001b[0m\u001b[37m\u001b[0m \u001b[1m32s\u001b[0m 179ms/step - activity_output_accuracy: 0.9985 - loss: 2.8925 - person_output_accuracy: 0.9963 - val_activity_output_accuracy: 0.7417 - val_loss: 4.0520 - val_person_output_accuracy: 0.8306 - learning_rate: 3.1381e-05\n",
      "Epoch 13/80\n",
      "\u001b[1m180/180\u001b[0m \u001b[32m━━━━━━━━━━━━━━━━━━━━\u001b[0m\u001b[37m\u001b[0m \u001b[1m32s\u001b[0m 180ms/step - activity_output_accuracy: 0.9957 - loss: 2.4869 - person_output_accuracy: 0.9908 - val_activity_output_accuracy: 0.7347 - val_loss: 3.6850 - val_person_output_accuracy: 0.8403 - learning_rate: 2.8243e-05\n",
      "Epoch 14/80\n",
      "\u001b[1m180/180\u001b[0m \u001b[32m━━━━━━━━━━━━━━━━━━━━\u001b[0m\u001b[37m\u001b[0m \u001b[1m32s\u001b[0m 180ms/step - activity_output_accuracy: 0.9995 - loss: 2.1319 - person_output_accuracy: 0.9988 - val_activity_output_accuracy: 0.7306 - val_loss: 3.4317 - val_person_output_accuracy: 0.8514 - learning_rate: 2.5419e-05\n",
      "Epoch 15/80\n",
      "\u001b[1m180/180\u001b[0m \u001b[32m━━━━━━━━━━━━━━━━━━━━\u001b[0m\u001b[37m\u001b[0m \u001b[1m32s\u001b[0m 179ms/step - activity_output_accuracy: 0.9989 - loss: 1.8588 - person_output_accuracy: 0.9982 - val_activity_output_accuracy: 0.7486 - val_loss: 3.2893 - val_person_output_accuracy: 0.8444 - learning_rate: 2.2877e-05\n",
      "Epoch 16/80\n",
      "\u001b[1m180/180\u001b[0m \u001b[32m━━━━━━━━━━━━━━━━━━━━\u001b[0m\u001b[37m\u001b[0m \u001b[1m32s\u001b[0m 180ms/step - activity_output_accuracy: 1.0000 - loss: 1.6219 - person_output_accuracy: 0.9976 - val_activity_output_accuracy: 0.7500 - val_loss: 2.9289 - val_person_output_accuracy: 0.8333 - learning_rate: 2.0589e-05\n",
      "Epoch 17/80\n",
      "\u001b[1m180/180\u001b[0m \u001b[32m━━━━━━━━━━━━━━━━━━━━\u001b[0m\u001b[37m\u001b[0m \u001b[1m32s\u001b[0m 180ms/step - activity_output_accuracy: 0.9998 - loss: 1.4281 - person_output_accuracy: 0.9983 - val_activity_output_accuracy: 0.7542 - val_loss: 2.7785 - val_person_output_accuracy: 0.8486 - learning_rate: 1.8530e-05\n",
      "Epoch 18/80\n",
      "\u001b[1m180/180\u001b[0m \u001b[32m━━━━━━━━━━━━━━━━━━━━\u001b[0m\u001b[37m\u001b[0m \u001b[1m32s\u001b[0m 180ms/step - activity_output_accuracy: 0.9986 - loss: 1.2660 - person_output_accuracy: 0.9989 - val_activity_output_accuracy: 0.7444 - val_loss: 2.7293 - val_person_output_accuracy: 0.8431 - learning_rate: 1.6677e-05\n",
      "Epoch 19/80\n",
      "\u001b[1m180/180\u001b[0m \u001b[32m━━━━━━━━━━━━━━━━━━━━\u001b[0m\u001b[37m\u001b[0m \u001b[1m32s\u001b[0m 180ms/step - activity_output_accuracy: 0.9994 - loss: 1.1321 - person_output_accuracy: 0.9988 - val_activity_output_accuracy: 0.7514 - val_loss: 2.5065 - val_person_output_accuracy: 0.8431 - learning_rate: 1.5009e-05\n",
      "Epoch 20/80\n",
      "\u001b[1m180/180\u001b[0m \u001b[32m━━━━━━━━━━━━━━━━━━━━\u001b[0m\u001b[37m\u001b[0m \u001b[1m32s\u001b[0m 179ms/step - activity_output_accuracy: 0.9998 - loss: 1.0135 - person_output_accuracy: 0.9991 - val_activity_output_accuracy: 0.7431 - val_loss: 2.4067 - val_person_output_accuracy: 0.8444 - learning_rate: 1.3509e-05\n",
      "Epoch 21/80\n",
      "\u001b[1m180/180\u001b[0m \u001b[32m━━━━━━━━━━━━━━━━━━━━\u001b[0m\u001b[37m\u001b[0m \u001b[1m32s\u001b[0m 179ms/step - activity_output_accuracy: 1.0000 - loss: 0.9153 - person_output_accuracy: 0.9991 - val_activity_output_accuracy: 0.7458 - val_loss: 2.3350 - val_person_output_accuracy: 0.8514 - learning_rate: 1.2158e-05\n",
      "Epoch 22/80\n",
      "\u001b[1m180/180\u001b[0m \u001b[32m━━━━━━━━━━━━━━━━━━━━\u001b[0m\u001b[37m\u001b[0m \u001b[1m32s\u001b[0m 179ms/step - activity_output_accuracy: 1.0000 - loss: 0.8360 - person_output_accuracy: 0.9992 - val_activity_output_accuracy: 0.7528 - val_loss: 2.2325 - val_person_output_accuracy: 0.8528 - learning_rate: 1.0942e-05\n",
      "Epoch 23/80\n",
      "\u001b[1m180/180\u001b[0m \u001b[32m━━━━━━━━━━━━━━━━━━━━\u001b[0m\u001b[37m\u001b[0m \u001b[1m32s\u001b[0m 179ms/step - activity_output_accuracy: 1.0000 - loss: 0.7636 - person_output_accuracy: 0.9999 - val_activity_output_accuracy: 0.7375 - val_loss: 2.1977 - val_person_output_accuracy: 0.8375 - learning_rate: 9.8477e-06\n",
      "Epoch 24/80\n",
      "\u001b[1m180/180\u001b[0m \u001b[32m━━━━━━━━━━━━━━━━━━━━\u001b[0m\u001b[37m\u001b[0m \u001b[1m33s\u001b[0m 181ms/step - activity_output_accuracy: 1.0000 - loss: 0.7030 - person_output_accuracy: 1.0000 - val_activity_output_accuracy: 0.7458 - val_loss: 2.1380 - val_person_output_accuracy: 0.8347 - learning_rate: 8.8629e-06\n",
      "Epoch 25/80\n",
      "\u001b[1m180/180\u001b[0m \u001b[32m━━━━━━━━━━━━━━━━━━━━\u001b[0m\u001b[37m\u001b[0m \u001b[1m32s\u001b[0m 179ms/step - activity_output_accuracy: 1.0000 - loss: 0.6520 - person_output_accuracy: 0.9995 - val_activity_output_accuracy: 0.7403 - val_loss: 2.1012 - val_person_output_accuracy: 0.8389 - learning_rate: 7.9766e-06\n",
      "Epoch 26/80\n",
      "\u001b[1m180/180\u001b[0m \u001b[32m━━━━━━━━━━━━━━━━━━━━\u001b[0m\u001b[37m\u001b[0m \u001b[1m32s\u001b[0m 179ms/step - activity_output_accuracy: 1.0000 - loss: 0.6080 - person_output_accuracy: 0.9970 - val_activity_output_accuracy: 0.7444 - val_loss: 2.0461 - val_person_output_accuracy: 0.8319 - learning_rate: 7.1790e-06\n",
      "Epoch 27/80\n",
      "\u001b[1m180/180\u001b[0m \u001b[32m━━━━━━━━━━━━━━━━━━━━\u001b[0m\u001b[37m\u001b[0m \u001b[1m32s\u001b[0m 178ms/step - activity_output_accuracy: 0.9997 - loss: 0.5653 - person_output_accuracy: 1.0000 - val_activity_output_accuracy: 0.7417 - val_loss: 2.0175 - val_person_output_accuracy: 0.8458 - learning_rate: 6.4611e-06\n",
      "Epoch 28/80\n",
      "\u001b[1m180/180\u001b[0m \u001b[32m━━━━━━━━━━━━━━━━━━━━\u001b[0m\u001b[37m\u001b[0m \u001b[1m32s\u001b[0m 179ms/step - activity_output_accuracy: 1.0000 - loss: 0.5264 - person_output_accuracy: 0.9999 - val_activity_output_accuracy: 0.7500 - val_loss: 1.9744 - val_person_output_accuracy: 0.8389 - learning_rate: 5.8150e-06\n",
      "Epoch 29/80\n",
      "\u001b[1m180/180\u001b[0m \u001b[32m━━━━━━━━━━━━━━━━━━━━\u001b[0m\u001b[37m\u001b[0m \u001b[1m32s\u001b[0m 180ms/step - activity_output_accuracy: 0.9994 - loss: 0.5034 - person_output_accuracy: 0.9993 - val_activity_output_accuracy: 0.7472 - val_loss: 1.9538 - val_person_output_accuracy: 0.8417 - learning_rate: 5.2335e-06\n",
      "Epoch 30/80\n",
      "\u001b[1m180/180\u001b[0m \u001b[32m━━━━━━━━━━━━━━━━━━━━\u001b[0m\u001b[37m\u001b[0m \u001b[1m32s\u001b[0m 178ms/step - activity_output_accuracy: 1.0000 - loss: 0.4721 - person_output_accuracy: 1.0000 - val_activity_output_accuracy: 0.7528 - val_loss: 1.9284 - val_person_output_accuracy: 0.8403 - learning_rate: 4.7101e-06\n",
      "Epoch 31/80\n",
      "\u001b[1m180/180\u001b[0m \u001b[32m━━━━━━━━━━━━━━━━━━━━\u001b[0m\u001b[37m\u001b[0m \u001b[1m32s\u001b[0m 179ms/step - activity_output_accuracy: 1.0000 - loss: 0.4507 - person_output_accuracy: 0.9999 - val_activity_output_accuracy: 0.7444 - val_loss: 1.9013 - val_person_output_accuracy: 0.8417 - learning_rate: 4.2391e-06\n",
      "Epoch 32/80\n",
      "\u001b[1m180/180\u001b[0m \u001b[32m━━━━━━━━━━━━━━━━━━━━\u001b[0m\u001b[37m\u001b[0m \u001b[1m32s\u001b[0m 179ms/step - activity_output_accuracy: 1.0000 - loss: 0.4340 - person_output_accuracy: 0.9996 - val_activity_output_accuracy: 0.7542 - val_loss: 1.8802 - val_person_output_accuracy: 0.8542 - learning_rate: 3.8152e-06\n",
      "Epoch 33/80\n",
      "\u001b[1m180/180\u001b[0m \u001b[32m━━━━━━━━━━━━━━━━━━━━\u001b[0m\u001b[37m\u001b[0m \u001b[1m32s\u001b[0m 179ms/step - activity_output_accuracy: 1.0000 - loss: 0.4135 - person_output_accuracy: 1.0000 - val_activity_output_accuracy: 0.7486 - val_loss: 1.8549 - val_person_output_accuracy: 0.8403 - learning_rate: 3.4337e-06\n",
      "Epoch 34/80\n",
      "\u001b[1m180/180\u001b[0m \u001b[32m━━━━━━━━━━━━━━━━━━━━\u001b[0m\u001b[37m\u001b[0m \u001b[1m32s\u001b[0m 179ms/step - activity_output_accuracy: 1.0000 - loss: 0.3980 - person_output_accuracy: 0.9999 - val_activity_output_accuracy: 0.7500 - val_loss: 1.8411 - val_person_output_accuracy: 0.8444 - learning_rate: 3.0903e-06\n",
      "Epoch 35/80\n",
      "\u001b[1m180/180\u001b[0m \u001b[32m━━━━━━━━━━━━━━━━━━━━\u001b[0m\u001b[37m\u001b[0m \u001b[1m32s\u001b[0m 179ms/step - activity_output_accuracy: 1.0000 - loss: 0.3843 - person_output_accuracy: 1.0000 - val_activity_output_accuracy: 0.7528 - val_loss: 1.8375 - val_person_output_accuracy: 0.8403 - learning_rate: 2.7813e-06\n",
      "Epoch 36/80\n",
      "\u001b[1m180/180\u001b[0m \u001b[32m━━━━━━━━━━━━━━━━━━━━\u001b[0m\u001b[37m\u001b[0m \u001b[1m32s\u001b[0m 178ms/step - activity_output_accuracy: 0.9996 - loss: 0.3694 - person_output_accuracy: 1.0000 - val_activity_output_accuracy: 0.7542 - val_loss: 1.8230 - val_person_output_accuracy: 0.8431 - learning_rate: 2.5032e-06\n",
      "Epoch 37/80\n",
      "\u001b[1m180/180\u001b[0m \u001b[32m━━━━━━━━━━━━━━━━━━━━\u001b[0m\u001b[37m\u001b[0m \u001b[1m30s\u001b[0m 168ms/step - activity_output_accuracy: 1.0000 - loss: 0.3632 - person_output_accuracy: 1.0000 - val_activity_output_accuracy: 0.7528 - val_loss: 1.8272 - val_person_output_accuracy: 0.8472 - learning_rate: 2.2528e-06\n",
      "Epoch 38/80\n",
      "\u001b[1m180/180\u001b[0m \u001b[32m━━━━━━━━━━━━━━━━━━━━\u001b[0m\u001b[37m\u001b[0m \u001b[1m32s\u001b[0m 179ms/step - activity_output_accuracy: 1.0000 - loss: 0.3530 - person_output_accuracy: 1.0000 - val_activity_output_accuracy: 0.7500 - val_loss: 1.8134 - val_person_output_accuracy: 0.8486 - learning_rate: 2.0276e-06\n",
      "Epoch 39/80\n",
      "\u001b[1m180/180\u001b[0m \u001b[32m━━━━━━━━━━━━━━━━━━━━\u001b[0m\u001b[37m\u001b[0m \u001b[1m32s\u001b[0m 179ms/step - activity_output_accuracy: 1.0000 - loss: 0.3427 - person_output_accuracy: 0.9997 - val_activity_output_accuracy: 0.7556 - val_loss: 1.8016 - val_person_output_accuracy: 0.8458 - learning_rate: 1.8248e-06\n",
      "Epoch 40/80\n",
      "\u001b[1m180/180\u001b[0m \u001b[32m━━━━━━━━━━━━━━━━━━━━\u001b[0m\u001b[37m\u001b[0m \u001b[1m32s\u001b[0m 179ms/step - activity_output_accuracy: 1.0000 - loss: 0.3343 - person_output_accuracy: 1.0000 - val_activity_output_accuracy: 0.7542 - val_loss: 1.8005 - val_person_output_accuracy: 0.8389 - learning_rate: 1.6423e-06\n",
      "Epoch 41/80\n",
      "\u001b[1m180/180\u001b[0m \u001b[32m━━━━━━━━━━━━━━━━━━━━\u001b[0m\u001b[37m\u001b[0m \u001b[1m32s\u001b[0m 180ms/step - activity_output_accuracy: 1.0000 - loss: 0.3275 - person_output_accuracy: 1.0000 - val_activity_output_accuracy: 0.7569 - val_loss: 1.7946 - val_person_output_accuracy: 0.8417 - learning_rate: 1.4781e-06\n",
      "Epoch 42/80\n",
      "\u001b[1m180/180\u001b[0m \u001b[32m━━━━━━━━━━━━━━━━━━━━\u001b[0m\u001b[37m\u001b[0m \u001b[1m32s\u001b[0m 179ms/step - activity_output_accuracy: 1.0000 - loss: 0.3232 - person_output_accuracy: 1.0000 - val_activity_output_accuracy: 0.7556 - val_loss: 1.7782 - val_person_output_accuracy: 0.8486 - learning_rate: 1.3303e-06\n",
      "Epoch 43/80\n",
      "\u001b[1m180/180\u001b[0m \u001b[32m━━━━━━━━━━━━━━━━━━━━\u001b[0m\u001b[37m\u001b[0m \u001b[1m32s\u001b[0m 179ms/step - activity_output_accuracy: 1.0000 - loss: 0.3140 - person_output_accuracy: 0.9997 - val_activity_output_accuracy: 0.7528 - val_loss: 1.7725 - val_person_output_accuracy: 0.8500 - learning_rate: 1.1973e-06\n",
      "Epoch 44/80\n",
      "\u001b[1m180/180\u001b[0m \u001b[32m━━━━━━━━━━━━━━━━━━━━\u001b[0m\u001b[37m\u001b[0m \u001b[1m32s\u001b[0m 178ms/step - activity_output_accuracy: 1.0000 - loss: 0.3085 - person_output_accuracy: 1.0000 - val_activity_output_accuracy: 0.7528 - val_loss: 1.7692 - val_person_output_accuracy: 0.8528 - learning_rate: 1.0775e-06\n",
      "Epoch 45/80\n",
      "\u001b[1m180/180\u001b[0m \u001b[32m━━━━━━━━━━━━━━━━━━━━\u001b[0m\u001b[37m\u001b[0m \u001b[1m32s\u001b[0m 179ms/step - activity_output_accuracy: 1.0000 - loss: 0.3046 - person_output_accuracy: 1.0000 - val_activity_output_accuracy: 0.7528 - val_loss: 1.7589 - val_person_output_accuracy: 0.8472 - learning_rate: 9.6977e-07\n",
      "Epoch 46/80\n",
      "\u001b[1m180/180\u001b[0m \u001b[32m━━━━━━━━━━━━━━━━━━━━\u001b[0m\u001b[37m\u001b[0m \u001b[1m32s\u001b[0m 179ms/step - activity_output_accuracy: 0.9995 - loss: 0.3054 - person_output_accuracy: 0.9986 - val_activity_output_accuracy: 0.7542 - val_loss: 1.7582 - val_person_output_accuracy: 0.8514 - learning_rate: 8.7280e-07\n",
      "Epoch 47/80\n",
      "\u001b[1m180/180\u001b[0m \u001b[32m━━━━━━━━━━━━━━━━━━━━\u001b[0m\u001b[37m\u001b[0m \u001b[1m30s\u001b[0m 168ms/step - activity_output_accuracy: 1.0000 - loss: 0.2998 - person_output_accuracy: 1.0000 - val_activity_output_accuracy: 0.7514 - val_loss: 1.7586 - val_person_output_accuracy: 0.8486 - learning_rate: 7.8552e-07\n",
      "Epoch 48/80\n",
      "\u001b[1m180/180\u001b[0m \u001b[32m━━━━━━━━━━━━━━━━━━━━\u001b[0m\u001b[37m\u001b[0m \u001b[1m32s\u001b[0m 180ms/step - activity_output_accuracy: 1.0000 - loss: 0.2971 - person_output_accuracy: 1.0000 - val_activity_output_accuracy: 0.7583 - val_loss: 1.7570 - val_person_output_accuracy: 0.8486 - learning_rate: 7.0697e-07\n",
      "Epoch 49/80\n",
      "\u001b[1m180/180\u001b[0m \u001b[32m━━━━━━━━━━━━━━━━━━━━\u001b[0m\u001b[37m\u001b[0m \u001b[1m32s\u001b[0m 179ms/step - activity_output_accuracy: 1.0000 - loss: 0.2944 - person_output_accuracy: 1.0000 - val_activity_output_accuracy: 0.7514 - val_loss: 1.7547 - val_person_output_accuracy: 0.8472 - learning_rate: 6.3627e-07\n",
      "Epoch 50/80\n",
      "\u001b[1m180/180\u001b[0m \u001b[32m━━━━━━━━━━━━━━━━━━━━\u001b[0m\u001b[37m\u001b[0m \u001b[1m32s\u001b[0m 179ms/step - activity_output_accuracy: 1.0000 - loss: 0.2930 - person_output_accuracy: 1.0000 - val_activity_output_accuracy: 0.7500 - val_loss: 1.7545 - val_person_output_accuracy: 0.8486 - learning_rate: 5.7264e-07\n",
      "Epoch 51/80\n",
      "\u001b[1m180/180\u001b[0m \u001b[32m━━━━━━━━━━━━━━━━━━━━\u001b[0m\u001b[37m\u001b[0m \u001b[1m32s\u001b[0m 179ms/step - activity_output_accuracy: 1.0000 - loss: 0.2862 - person_output_accuracy: 1.0000 - val_activity_output_accuracy: 0.7514 - val_loss: 1.7541 - val_person_output_accuracy: 0.8486 - learning_rate: 5.1538e-07\n",
      "Epoch 52/80\n",
      "\u001b[1m180/180\u001b[0m \u001b[32m━━━━━━━━━━━━━━━━━━━━\u001b[0m\u001b[37m\u001b[0m \u001b[1m32s\u001b[0m 180ms/step - activity_output_accuracy: 1.0000 - loss: 0.2863 - person_output_accuracy: 1.0000 - val_activity_output_accuracy: 0.7514 - val_loss: 1.7509 - val_person_output_accuracy: 0.8472 - learning_rate: 4.6384e-07\n",
      "Epoch 53/80\n",
      "\u001b[1m180/180\u001b[0m \u001b[32m━━━━━━━━━━━━━━━━━━━━\u001b[0m\u001b[37m\u001b[0m \u001b[1m33s\u001b[0m 182ms/step - activity_output_accuracy: 1.0000 - loss: 0.2841 - person_output_accuracy: 1.0000 - val_activity_output_accuracy: 0.7528 - val_loss: 1.7472 - val_person_output_accuracy: 0.8472 - learning_rate: 4.1746e-07\n",
      "Epoch 54/80\n",
      "\u001b[1m180/180\u001b[0m \u001b[32m━━━━━━━━━━━━━━━━━━━━\u001b[0m\u001b[37m\u001b[0m \u001b[1m30s\u001b[0m 168ms/step - activity_output_accuracy: 1.0000 - loss: 0.2815 - person_output_accuracy: 1.0000 - val_activity_output_accuracy: 0.7528 - val_loss: 1.7477 - val_person_output_accuracy: 0.8458 - learning_rate: 3.7571e-07\n",
      "Epoch 55/80\n",
      "\u001b[1m180/180\u001b[0m \u001b[32m━━━━━━━━━━━━━━━━━━━━\u001b[0m\u001b[37m\u001b[0m \u001b[1m32s\u001b[0m 180ms/step - activity_output_accuracy: 1.0000 - loss: 0.2833 - person_output_accuracy: 0.9996 - val_activity_output_accuracy: 0.7542 - val_loss: 1.7441 - val_person_output_accuracy: 0.8458 - learning_rate: 3.3814e-07\n",
      "Epoch 56/80\n",
      "\u001b[1m180/180\u001b[0m \u001b[32m━━━━━━━━━━━━━━━━━━━━\u001b[0m\u001b[37m\u001b[0m \u001b[1m32s\u001b[0m 180ms/step - activity_output_accuracy: 1.0000 - loss: 0.2870 - person_output_accuracy: 0.9999 - val_activity_output_accuracy: 0.7514 - val_loss: 1.7405 - val_person_output_accuracy: 0.8472 - learning_rate: 3.0433e-07\n",
      "Epoch 57/80\n",
      "\u001b[1m180/180\u001b[0m \u001b[32m━━━━━━━━━━━━━━━━━━━━\u001b[0m\u001b[37m\u001b[0m \u001b[1m30s\u001b[0m 168ms/step - activity_output_accuracy: 1.0000 - loss: 0.2783 - person_output_accuracy: 1.0000 - val_activity_output_accuracy: 0.7528 - val_loss: 1.7425 - val_person_output_accuracy: 0.8458 - learning_rate: 2.7389e-07\n",
      "Epoch 58/80\n",
      "\u001b[1m180/180\u001b[0m \u001b[32m━━━━━━━━━━━━━━━━━━━━\u001b[0m\u001b[37m\u001b[0m \u001b[1m30s\u001b[0m 168ms/step - activity_output_accuracy: 1.0000 - loss: 0.2812 - person_output_accuracy: 1.0000 - val_activity_output_accuracy: 0.7542 - val_loss: 1.7429 - val_person_output_accuracy: 0.8472 - learning_rate: 2.4650e-07\n",
      "Epoch 59/80\n",
      "\u001b[1m180/180\u001b[0m \u001b[32m━━━━━━━━━━━━━━━━━━━━\u001b[0m\u001b[37m\u001b[0m \u001b[1m32s\u001b[0m 179ms/step - activity_output_accuracy: 1.0000 - loss: 0.2755 - person_output_accuracy: 1.0000 - val_activity_output_accuracy: 0.7528 - val_loss: 1.7403 - val_person_output_accuracy: 0.8472 - learning_rate: 2.2185e-07\n",
      "Epoch 60/80\n",
      "\u001b[1m180/180\u001b[0m \u001b[32m━━━━━━━━━━━━━━━━━━━━\u001b[0m\u001b[37m\u001b[0m \u001b[1m32s\u001b[0m 179ms/step - activity_output_accuracy: 0.9999 - loss: 0.2758 - person_output_accuracy: 0.9999 - val_activity_output_accuracy: 0.7528 - val_loss: 1.7371 - val_person_output_accuracy: 0.8458 - learning_rate: 1.9967e-07\n",
      "Epoch 61/80\n",
      "\u001b[1m180/180\u001b[0m \u001b[32m━━━━━━━━━━━━━━━━━━━━\u001b[0m\u001b[37m\u001b[0m \u001b[1m30s\u001b[0m 168ms/step - activity_output_accuracy: 1.0000 - loss: 0.2790 - person_output_accuracy: 1.0000 - val_activity_output_accuracy: 0.7514 - val_loss: 1.7429 - val_person_output_accuracy: 0.8486 - learning_rate: 1.7970e-07\n",
      "Epoch 62/80\n",
      "\u001b[1m180/180\u001b[0m \u001b[32m━━━━━━━━━━━━━━━━━━━━\u001b[0m\u001b[37m\u001b[0m \u001b[1m30s\u001b[0m 168ms/step - activity_output_accuracy: 1.0000 - loss: 0.2744 - person_output_accuracy: 1.0000 - val_activity_output_accuracy: 0.7500 - val_loss: 1.7429 - val_person_output_accuracy: 0.8458 - learning_rate: 1.6173e-07\n",
      "Epoch 63/80\n",
      "\u001b[1m180/180\u001b[0m \u001b[32m━━━━━━━━━━━━━━━━━━━━\u001b[0m\u001b[37m\u001b[0m \u001b[1m30s\u001b[0m 168ms/step - activity_output_accuracy: 1.0000 - loss: 0.2776 - person_output_accuracy: 1.0000 - val_activity_output_accuracy: 0.7514 - val_loss: 1.7389 - val_person_output_accuracy: 0.8458 - learning_rate: 1.4556e-07\n",
      "Epoch 64/80\n",
      "\u001b[1m180/180\u001b[0m \u001b[32m━━━━━━━━━━━━━━━━━━━━\u001b[0m\u001b[37m\u001b[0m \u001b[1m30s\u001b[0m 167ms/step - activity_output_accuracy: 1.0000 - loss: 0.2746 - person_output_accuracy: 1.0000 - val_activity_output_accuracy: 0.7514 - val_loss: 1.7380 - val_person_output_accuracy: 0.8486 - learning_rate: 1.3100e-07\n"
     ]
    }
   ],
   "source": [
    "# Build the model\n",
    "model_aug = build_model(learning_rate=lr)\n",
    "\n",
    "# Get the callbacks\n",
    "callbacks = get_callbacks(lr)\n",
    "\n",
    "# Train the model\n",
    "history = model_aug.fit(train_dataset_aug,  # Use the augmented dataset\n",
    "                    validation_data=val_dataset,\n",
    "                    batch_size=16, epochs=80,\n",
    "                    callbacks=callbacks)"
   ]
  },
  {
   "cell_type": "code",
   "execution_count": null,
   "metadata": {},
   "outputs": [
    {
     "name": "stdout",
     "output_type": "stream",
     "text": [
      "\u001b[1m23/23\u001b[0m \u001b[32m━━━━━━━━━━━━━━━━━━━━\u001b[0m\u001b[37m\u001b[0m \u001b[1m7s\u001b[0m 203ms/step\n"
     ]
    }
   ],
   "source": [
    "predictions = model_aug.predict(X_val)\n",
    "\n",
    "activity_predictions = predictions[0]\n",
    "person_predictions = predictions[1]\n"
   ]
  },
  {
   "cell_type": "code",
   "execution_count": null,
   "metadata": {},
   "outputs": [
    {
     "name": "stdout",
     "output_type": "stream",
     "text": [
      "\u001b[1m45/45\u001b[0m \u001b[32m━━━━━━━━━━━━━━━━━━━━\u001b[0m\u001b[37m\u001b[0m \u001b[1m2s\u001b[0m 46ms/step - activity_output_accuracy: 0.7308 - loss: 1.7576 - person_output_accuracy: 0.8468\n",
      "Validation loss: 1.737059235572815\n",
      "Validation activity accuracy: 0.7527777552604675\n",
      "Validation person accuracy: 0.8458333611488342\n"
     ]
    }
   ],
   "source": [
    "# Evaluate the model on the validation dataset\n",
    "eval_results = model_aug.evaluate(val_dataset)\n",
    "\n",
    "# Print evaluation results\n",
    "print(f\"Validation loss: {eval_results[0]}\")\n",
    "print(f\"Validation activity accuracy: {eval_results[1]}\")\n",
    "print(f\"Validation person accuracy: {eval_results[2]}\")"
   ]
  },
  {
   "cell_type": "markdown",
   "metadata": {},
   "source": [
    "Observations:\n",
    "\n",
    "\n",
    "*   The Augmented model shows similar results with a slightly better performance on the `Class` classification accuracy but a reduction in accuracy with the `MoreThanOnePerson` accuracy.\n",
    "*   The loss here is slightly lesser.\n",
    "*  We will now try the tuned model with lesser epochs to avoid overfitting."
   ]
  }
 ],
 "metadata": {
  "language_info": {
   "name": "python"
  }
 },
 "nbformat": 4,
 "nbformat_minor": 2
}
