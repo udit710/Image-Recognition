{
 "cells": [
  {
   "cell_type": "markdown",
   "metadata": {},
   "source": [
    "# Predictions on Future Dataset"
   ]
  },
  {
   "cell_type": "code",
   "execution_count": null,
   "metadata": {},
   "outputs": [],
   "source": [
    "predict_df = pd.read_csv('data/future_data_2024.csv')"
   ]
  },
  {
   "cell_type": "code",
   "execution_count": null,
   "metadata": {},
   "outputs": [],
   "source": [
    "df2 = predict_df.copy()\n",
    "df2['FileName'] = 'test_images/Images/' + df2['FileName']"
   ]
  },
  {
   "cell_type": "code",
   "execution_count": null,
   "metadata": {},
   "outputs": [
    {
     "name": "stdout",
     "output_type": "stream",
     "text": [
      "[<class 'str'>]\n"
     ]
    }
   ],
   "source": [
    "print(df2['FileName'].apply(type).unique())"
   ]
  },
  {
   "cell_type": "code",
   "execution_count": null,
   "metadata": {},
   "outputs": [],
   "source": [
    "df2['FileName'] = df2['FileName'].astype(str)\n"
   ]
  },
  {
   "cell_type": "code",
   "execution_count": null,
   "metadata": {},
   "outputs": [
    {
     "name": "stdout",
     "output_type": "stream",
     "text": [
      "[<class 'str'>]\n"
     ]
    }
   ],
   "source": [
    "print(df2['FileName'].apply(type).unique())\n"
   ]
  },
  {
   "cell_type": "code",
   "execution_count": null,
   "metadata": {},
   "outputs": [],
   "source": [
    "import tensorflow as tf\n",
    "import numpy as np\n",
    "from PIL import Image\n",
    "import pandas as pd\n",
    "import os\n",
    "\n",
    "def test_preprocess_image(image):\n",
    "    \"\"\"Apply same preprocessing as Training\"\"\"\n",
    "    if image.mode != 'RGB':\n",
    "        image = image.convert('RGB')\n",
    "\n",
    "    image = image.resize((224, 224))  # Resize the image\n",
    "\n",
    "    image = np.asarray(image)  # Convert to numpy array\n",
    "\n",
    "    return image\n",
    "\n",
    "num_samples = df2.shape[0]\n",
    "images = np.empty((3128, 224,224,3))\n",
    "\n",
    "for i, row in df2.iterrows():\n",
    "    filepath = row['FileName']\n",
    "    image = Image.open(filepath)\n",
    "    preprocessed_image = test_preprocess_image(image)\n",
    "    # Do the predictions or store preprocessed_image\n",
    "    images[i] = preprocessed_image\n"
   ]
  },
  {
   "cell_type": "code",
   "execution_count": null,
   "metadata": {},
   "outputs": [],
   "source": [
    "test_dataset = tf.data.Dataset.from_tensor_slices(images)\n",
    "test_dataset = test_dataset.batch(16).prefetch(tf.data.AUTOTUNE)"
   ]
  },
  {
   "cell_type": "code",
   "execution_count": null,
   "metadata": {},
   "outputs": [
    {
     "name": "stdout",
     "output_type": "stream",
     "text": [
      "\u001b[1m196/196\u001b[0m \u001b[32m━━━━━━━━━━━━━━━━━━━━\u001b[0m\u001b[37m\u001b[0m \u001b[1m16s\u001b[0m 52ms/step\n"
     ]
    }
   ],
   "source": [
    "final_predictions = model_tuned.predict(test_dataset)"
   ]
  },
  {
   "cell_type": "code",
   "execution_count": null,
   "metadata": {},
   "outputs": [
    {
     "name": "stdout",
     "output_type": "stream",
     "text": [
      "Shape of activity predictions: (3128, 40)\n",
      "Shape of person predictions: (3128, 1)\n"
     ]
    }
   ],
   "source": [
    "# Verify shape of output\n",
    "print(f\"Shape of activity predictions: {final_predictions[0].shape}\")\n",
    "print(f\"Shape of person predictions: {final_predictions[1].shape}\")\n"
   ]
  },
  {
   "cell_type": "code",
   "execution_count": null,
   "metadata": {},
   "outputs": [],
   "source": [
    "# Convert the `Class` back\n",
    "import numpy as np\n",
    "\n",
    "# Reverse the category mapping\n",
    "reverse_category_mapping = {idx: category for category, idx in category_mapping.items()}\n",
    "reverse_person_mapping = {idx: category for category, idx in person_mapping.items()}\n",
    "\n",
    "# Convert the predictions to class labels\n",
    "predicted_indices = np.argmax(final_predictions[0], axis=1)\n",
    "\n",
    "predicted_person_indices = np.round(final_predictions[1]).astype(int).flatten() # Added .flatten() to ensure 1D array\n",
    "\n",
    "predicted_labels = [reverse_category_mapping[idx] for idx in predicted_indices]\n",
    "predicted_person_labels = [reverse_person_mapping[idx] for idx in predicted_person_indices]"
   ]
  },
  {
   "cell_type": "code",
   "execution_count": null,
   "metadata": {},
   "outputs": [],
   "source": [
    "predict_df['Class'] = predicted_labels\n",
    "predict_df['MoreThanOnePerson'] = predicted_person_labels"
   ]
  },
  {
   "cell_type": "code",
   "execution_count": null,
   "metadata": {},
   "outputs": [],
   "source": [
    "# save\n",
    "predict_df.to_csv('predictions.csv', index=False)"
   ]
  }
 ],
 "metadata": {
  "language_info": {
   "name": "python"
  }
 },
 "nbformat": 4,
 "nbformat_minor": 2
}
